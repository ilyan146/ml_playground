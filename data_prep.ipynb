{
 "cells": [
  {
   "metadata": {
    "ExecuteTime": {
     "end_time": "2025-04-24T08:19:31.768165Z",
     "start_time": "2025-04-24T08:19:31.765526Z"
    }
   },
   "cell_type": "code",
   "source": [
    "import os\n",
    "import json\n",
    "import kagglehub\n",
    "import pandas as pd"
   ],
   "id": "c5a2764cdd71c79b",
   "outputs": [],
   "execution_count": 18
  },
  {
   "metadata": {
    "ExecuteTime": {
     "end_time": "2025-04-24T08:19:35.354049Z",
     "start_time": "2025-04-24T08:19:31.782626Z"
    }
   },
   "cell_type": "code",
   "source": [
    "# Download latest-version\n",
    "path = kagglehub.dataset_download(\"promptcloud/careerbuilder-job-listing-2020\")\n",
    "\n",
    "print(\"Path to dataset files:\", path)"
   ],
   "id": "57aba85134064a24",
   "outputs": [
    {
     "name": "stdout",
     "output_type": "stream",
     "text": [
      "Path to dataset files: C:\\Users\\edan\\.cache\\kagglehub\\datasets\\promptcloud\\careerbuilder-job-listing-2020\\versions\\1\n"
     ]
    }
   ],
   "execution_count": 19
  },
  {
   "metadata": {
    "ExecuteTime": {
     "end_time": "2025-04-24T08:19:35.393780Z",
     "start_time": "2025-04-24T08:19:35.389239Z"
    }
   },
   "cell_type": "code",
   "source": [
    "file = os.listdir(path)\n",
    "print(file)\n",
    "file_path = os.path.join(path ,file[0])"
   ],
   "id": "473f90f20b1fe832",
   "outputs": [
    {
     "name": "stdout",
     "output_type": "stream",
     "text": [
      "['marketing_sample_for_careerbuilder_usa-careerbuilder_job_listing__20200401_20200630__30k_data.ldjson']\n"
     ]
    }
   ],
   "execution_count": 20
  },
  {
   "metadata": {
    "ExecuteTime": {
     "end_time": "2025-04-24T08:19:36.829304Z",
     "start_time": "2025-04-24T08:19:35.429480Z"
    }
   },
   "cell_type": "code",
   "source": [
    "load_rows = []\n",
    "with open(file_path, 'r', encoding='utf-8') as f:\n",
    "    for i, line in enumerate(f):\n",
    "        try:\n",
    "            load_rows.append(json.loads(line))\n",
    "        except Exception as e:\n",
    "            print(f\"Error on line {i+1}: {e}\")\n",
    "\n",
    "# Read in to dataframe\n",
    "df = pd.DataFrame(load_rows)\n",
    "df.head()"
   ],
   "id": "c68e773d993d5b10",
   "outputs": [
    {
     "name": "stdout",
     "output_type": "stream",
     "text": [
      "Error on line 6614: Extra data: line 1 column 7004 (char 7003)\n"
     ]
    },
    {
     "data": {
      "text/plain": [
       "                            uniq_id            crawl_timestamp  \\\n",
       "0  9a457ef257fecf231693a6ba08f50293  2020-06-26 01:54:03 +0000   \n",
       "1  ba471e2faf6f79caf22cddebbedbc0e8  2020-05-17 01:21:05 +0000   \n",
       "2  6f00bd02d63c633b5af453366f25c21e  2020-06-27 04:53:42 +0000   \n",
       "3  8ad0d00bfa23cfd7b7c364b8ae72085f  2020-06-03 01:21:32 +0000   \n",
       "4  31753dc342a1b2a07db712454c0d5f87  2020-05-23 01:19:07 +0000   \n",
       "\n",
       "                                                 url  \\\n",
       "0  https://www.careerbuilder.com/job/J3W0PF650Z8Q...   \n",
       "1  https://www.careerbuilder.com/job/J3P0FL6X795R...   \n",
       "2  https://www.careerbuilder.com/job/J3W3XK69NHHR...   \n",
       "3  https://www.careerbuilder.com/job/J3Q5RL6VS7PG...   \n",
       "4  https://www.careerbuilder.com/job/J3V1TJ68DPJ7...   \n",
       "\n",
       "                                           job_title  \\\n",
       "0            Asphalt/Concrete Senior Project Manager   \n",
       "1                  Amazon Warehouse Team - Full Time   \n",
       "2  Amazon Warehouse Associate - Morning Shifts Av...   \n",
       "3                                Assembly Electrical   \n",
       "4                                  Graphics Designer   \n",
       "\n",
       "                    company_name        city state country   post_date  \\\n",
       "0                           GPAC     Houston    TX      US  2020-06-25   \n",
       "1             Amazon Fulfillment  Cincinnati    OH      US  2020-05-16   \n",
       "2             Amazon Fulfillment     Peabody    MA      US  2020-06-26   \n",
       "3                       Manpower     Villard    MN      US  2020-06-02   \n",
       "4  The North West Company - U.S.   Anchorage    AK      US  2020-05-22   \n",
       "\n",
       "                                     job_description  ... inferred_state  \\\n",
       "0  SR. PROJECT MANAGER WANTED!!! My client is a M...  ...          Texas   \n",
       "1  Shifts: Overnight, Early Morning, Day, Evening...  ...           Ohio   \n",
       "2  Shifts: Early Morning, Day, Evening Location: ...  ...  Massachusetts   \n",
       "3  Do you pride yourself on attention to detail a...  ...      Minnesota   \n",
       "4  In your role as Graphics Designer for Alaska C...  ...         Alaska   \n",
       "\n",
       "  inferred_country fitness_score inferred_salary_from inferred_salary_to  \\\n",
       "0    United states            10                  NaN                NaN   \n",
       "1    United states            10                  NaN                NaN   \n",
       "2    United states            10                  NaN                NaN   \n",
       "3    United states            10                14.00              14.00   \n",
       "4    United states            10                  NaN                NaN   \n",
       "\n",
       "  inferred_salary_currency is_consumed_job job_requirements contact_email  \\\n",
       "0                      NaN             NaN              NaN           NaN   \n",
       "1                      NaN             NaN              NaN           NaN   \n",
       "2                      NaN             NaN              NaN           NaN   \n",
       "3                        $             NaN              NaN           NaN   \n",
       "4                      NaN             NaN              NaN           NaN   \n",
       "\n",
       "  test_contact_email  \n",
       "0                NaN  \n",
       "1                NaN  \n",
       "2                NaN  \n",
       "3                NaN  \n",
       "4                NaN  \n",
       "\n",
       "[5 rows x 40 columns]"
      ],
      "text/html": [
       "<div>\n",
       "<style scoped>\n",
       "    .dataframe tbody tr th:only-of-type {\n",
       "        vertical-align: middle;\n",
       "    }\n",
       "\n",
       "    .dataframe tbody tr th {\n",
       "        vertical-align: top;\n",
       "    }\n",
       "\n",
       "    .dataframe thead th {\n",
       "        text-align: right;\n",
       "    }\n",
       "</style>\n",
       "<table border=\"1\" class=\"dataframe\">\n",
       "  <thead>\n",
       "    <tr style=\"text-align: right;\">\n",
       "      <th></th>\n",
       "      <th>uniq_id</th>\n",
       "      <th>crawl_timestamp</th>\n",
       "      <th>url</th>\n",
       "      <th>job_title</th>\n",
       "      <th>company_name</th>\n",
       "      <th>city</th>\n",
       "      <th>state</th>\n",
       "      <th>country</th>\n",
       "      <th>post_date</th>\n",
       "      <th>job_description</th>\n",
       "      <th>...</th>\n",
       "      <th>inferred_state</th>\n",
       "      <th>inferred_country</th>\n",
       "      <th>fitness_score</th>\n",
       "      <th>inferred_salary_from</th>\n",
       "      <th>inferred_salary_to</th>\n",
       "      <th>inferred_salary_currency</th>\n",
       "      <th>is_consumed_job</th>\n",
       "      <th>job_requirements</th>\n",
       "      <th>contact_email</th>\n",
       "      <th>test_contact_email</th>\n",
       "    </tr>\n",
       "  </thead>\n",
       "  <tbody>\n",
       "    <tr>\n",
       "      <th>0</th>\n",
       "      <td>9a457ef257fecf231693a6ba08f50293</td>\n",
       "      <td>2020-06-26 01:54:03 +0000</td>\n",
       "      <td>https://www.careerbuilder.com/job/J3W0PF650Z8Q...</td>\n",
       "      <td>Asphalt/Concrete Senior Project Manager</td>\n",
       "      <td>GPAC</td>\n",
       "      <td>Houston</td>\n",
       "      <td>TX</td>\n",
       "      <td>US</td>\n",
       "      <td>2020-06-25</td>\n",
       "      <td>SR. PROJECT MANAGER WANTED!!! My client is a M...</td>\n",
       "      <td>...</td>\n",
       "      <td>Texas</td>\n",
       "      <td>United states</td>\n",
       "      <td>10</td>\n",
       "      <td>NaN</td>\n",
       "      <td>NaN</td>\n",
       "      <td>NaN</td>\n",
       "      <td>NaN</td>\n",
       "      <td>NaN</td>\n",
       "      <td>NaN</td>\n",
       "      <td>NaN</td>\n",
       "    </tr>\n",
       "    <tr>\n",
       "      <th>1</th>\n",
       "      <td>ba471e2faf6f79caf22cddebbedbc0e8</td>\n",
       "      <td>2020-05-17 01:21:05 +0000</td>\n",
       "      <td>https://www.careerbuilder.com/job/J3P0FL6X795R...</td>\n",
       "      <td>Amazon Warehouse Team - Full Time</td>\n",
       "      <td>Amazon Fulfillment</td>\n",
       "      <td>Cincinnati</td>\n",
       "      <td>OH</td>\n",
       "      <td>US</td>\n",
       "      <td>2020-05-16</td>\n",
       "      <td>Shifts: Overnight, Early Morning, Day, Evening...</td>\n",
       "      <td>...</td>\n",
       "      <td>Ohio</td>\n",
       "      <td>United states</td>\n",
       "      <td>10</td>\n",
       "      <td>NaN</td>\n",
       "      <td>NaN</td>\n",
       "      <td>NaN</td>\n",
       "      <td>NaN</td>\n",
       "      <td>NaN</td>\n",
       "      <td>NaN</td>\n",
       "      <td>NaN</td>\n",
       "    </tr>\n",
       "    <tr>\n",
       "      <th>2</th>\n",
       "      <td>6f00bd02d63c633b5af453366f25c21e</td>\n",
       "      <td>2020-06-27 04:53:42 +0000</td>\n",
       "      <td>https://www.careerbuilder.com/job/J3W3XK69NHHR...</td>\n",
       "      <td>Amazon Warehouse Associate - Morning Shifts Av...</td>\n",
       "      <td>Amazon Fulfillment</td>\n",
       "      <td>Peabody</td>\n",
       "      <td>MA</td>\n",
       "      <td>US</td>\n",
       "      <td>2020-06-26</td>\n",
       "      <td>Shifts: Early Morning, Day, Evening Location: ...</td>\n",
       "      <td>...</td>\n",
       "      <td>Massachusetts</td>\n",
       "      <td>United states</td>\n",
       "      <td>10</td>\n",
       "      <td>NaN</td>\n",
       "      <td>NaN</td>\n",
       "      <td>NaN</td>\n",
       "      <td>NaN</td>\n",
       "      <td>NaN</td>\n",
       "      <td>NaN</td>\n",
       "      <td>NaN</td>\n",
       "    </tr>\n",
       "    <tr>\n",
       "      <th>3</th>\n",
       "      <td>8ad0d00bfa23cfd7b7c364b8ae72085f</td>\n",
       "      <td>2020-06-03 01:21:32 +0000</td>\n",
       "      <td>https://www.careerbuilder.com/job/J3Q5RL6VS7PG...</td>\n",
       "      <td>Assembly Electrical</td>\n",
       "      <td>Manpower</td>\n",
       "      <td>Villard</td>\n",
       "      <td>MN</td>\n",
       "      <td>US</td>\n",
       "      <td>2020-06-02</td>\n",
       "      <td>Do you pride yourself on attention to detail a...</td>\n",
       "      <td>...</td>\n",
       "      <td>Minnesota</td>\n",
       "      <td>United states</td>\n",
       "      <td>10</td>\n",
       "      <td>14.00</td>\n",
       "      <td>14.00</td>\n",
       "      <td>$</td>\n",
       "      <td>NaN</td>\n",
       "      <td>NaN</td>\n",
       "      <td>NaN</td>\n",
       "      <td>NaN</td>\n",
       "    </tr>\n",
       "    <tr>\n",
       "      <th>4</th>\n",
       "      <td>31753dc342a1b2a07db712454c0d5f87</td>\n",
       "      <td>2020-05-23 01:19:07 +0000</td>\n",
       "      <td>https://www.careerbuilder.com/job/J3V1TJ68DPJ7...</td>\n",
       "      <td>Graphics Designer</td>\n",
       "      <td>The North West Company - U.S.</td>\n",
       "      <td>Anchorage</td>\n",
       "      <td>AK</td>\n",
       "      <td>US</td>\n",
       "      <td>2020-05-22</td>\n",
       "      <td>In your role as Graphics Designer for Alaska C...</td>\n",
       "      <td>...</td>\n",
       "      <td>Alaska</td>\n",
       "      <td>United states</td>\n",
       "      <td>10</td>\n",
       "      <td>NaN</td>\n",
       "      <td>NaN</td>\n",
       "      <td>NaN</td>\n",
       "      <td>NaN</td>\n",
       "      <td>NaN</td>\n",
       "      <td>NaN</td>\n",
       "      <td>NaN</td>\n",
       "    </tr>\n",
       "  </tbody>\n",
       "</table>\n",
       "<p>5 rows × 40 columns</p>\n",
       "</div>"
      ]
     },
     "execution_count": 21,
     "metadata": {},
     "output_type": "execute_result"
    }
   ],
   "execution_count": 21
  },
  {
   "metadata": {
    "ExecuteTime": {
     "end_time": "2025-04-24T08:19:36.889354Z",
     "start_time": "2025-04-24T08:19:36.882669Z"
    }
   },
   "cell_type": "code",
   "source": "df.shape",
   "id": "f9ade94a963bcc7b",
   "outputs": [
    {
     "data": {
      "text/plain": [
       "(29982, 40)"
      ]
     },
     "execution_count": 22,
     "metadata": {},
     "output_type": "execute_result"
    }
   ],
   "execution_count": 22
  }
 ],
 "metadata": {},
 "nbformat": 4,
 "nbformat_minor": 5
}
